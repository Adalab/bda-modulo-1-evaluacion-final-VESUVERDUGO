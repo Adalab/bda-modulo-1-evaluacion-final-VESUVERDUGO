{
 "cells": [
  {
   "cell_type": "code",
   "execution_count": 267,
   "metadata": {},
   "outputs": [],
   "source": [
    "# # EVALUACION FINAL MODULO 1 - VERONICA VERDUGO\n",
    "# Crear una tienda online con atributos: inventario(lista de diccionarios) , clientes (diccionario) y ventas totales (float)\n",
    "\n",
    "class TiendaOnLine:\n",
    "# Defino los atributos de la class\n",
    "    def __init__(self, inventario , clientes ): \n",
    "# (Claves: nombre, precio, cantidad) Al ser modificable hago un diccionario vacío para poder almacenar multiples productos en forma de diccionario\n",
    "        self.inventario = [{\"nombre\" : \"camisa\", \"precio\" : float(20) , \"cantidad\" : int(40)}] , [{\"nombre\" : \"pantalon\" , \"precio\" : float(30) , \"cantidad\" : int(30)}]\n",
    "# (Claves: nombre, email y compras) Al ser un directorio de clientes, creamos un diccionario vacio. para crear claves únicas, evitar que se dupliquen y buscar mejor.\n",
    "        self.clientes = {\"cliente1\" : {\"email\" : \"cliente1@email.com\" , \"compras\" : []} , \"cliente2\" : {\"email\" : \"cliente2@email.com\" , \"compras\" : []}}  \n",
    "# Necesito que sea un numero decimal (float)con inicio en 0\n",
    "        self.ventas_totales = float(0) \n",
    "# Debe tener los siguientes métodos: \n",
    "# 1. Agregar producto  \n",
    "    def agregar_producto(self, nombre, precio, cantidad):\n",
    "        inventario = {\n",
    "            \"nombre\" : nombre,\n",
    "            \"precio\" : precio,\n",
    "            \"cantidad\": cantidad\n",
    "        }\n",
    "# Verifica si el 'id_producto' existe en el inventario\n",
    "        for id_producto in inventario:\n",
    "            if id_producto in self.inventario:# IF para iterar a traves del inventario.\n",
    "                resultado_agregado = cantidad.sum (+1)\n",
    "                print (f\"El producto {id_producto} ha sido añadido al inventario. {resultado_agregado}\")\n",
    "            else:\n",
    "                self.nombre[id_producto] = inventario.append [nombre, precio, cantidad]\n",
    "# Imprime un mensaje de éxito con el nombre del producto\n",
    "            print(f\"Producto '{nombre}' agregado con éxito.\")\n",
    "# 2. Ver inventario: devuelve el diccionario de productos actualizado\n",
    "            return self.inventario\n",
    "    def ver_inventario (self):\n",
    "        for key in inventario.items():\n",
    "            print (f\"El inventario de la tienda es: {key}\")   \n",
    "# 3. Buscar un producto por nombre\n",
    "    def buscar_producto (self):\n",
    "        for self.nombre in inventario:\n",
    "            if nombre == \"nombre\":\n",
    "                print (producto (\"nombre:[]\", \"precio:[]\" , \"cantidad:[]\")),\n",
    "            else:\n",
    "                print (\"no se encuentra el producto\")\n",
    "# 4. Actualizar stock: buscar por nombre, actualizar, indicar con un mensaje si no está.\n",
    "    def actualizar_stock (self, nombre, cantidad):\n",
    "        for nombre in inventario:\n",
    "            actualizar = [nombre, precio (), cantidad ()]\n",
    "            print (f\"el producto {nombre} ha sido actualizado\")\n",
    "        for nombre in inventario:\n",
    "            input (\"Introduce el nombre de tu producto:\" , nombre)\n",
    "            if(nombre) == nombre:\n",
    "                print (\"Estos son los detalles del producto {nombre}\")\n",
    "                break\n",
    "# 5. Eliminar un producto del inventario           \n",
    "    def eliminar_producto (self, nombre):\n",
    "        for nombre in inventario:\n",
    "            input (\"escribe el articulo que quieres eliminar {eliminar}\")\n",
    "            if eliminar == nombre:\n",
    "                remove(eliminar)\n",
    "                print (\"El producto a sido eliminado\")\n",
    "            else:\n",
    "                print (\"El producto no está en el inventario\")\n",
    "# 6. Calcular el valor del inventario\n",
    "    def calcular_valor_inventario(self):\n",
    "        for valor_inventario in inventario:\n",
    "            total_precio = \"precio\".sum\n",
    "            resultado = float()\n",
    "            \n",
    "\n",
    "\n"
   ]
  },
  {
   "cell_type": "code",
   "execution_count": 247,
   "metadata": {},
   "outputs": [],
   "source": [
    "# # EVALUACION FINAL MODULO 1 - VERONICA VERDUGO SIGO PROBANDO DE OTRA MANERA A VER\n",
    "# Crear una tienda online con atributos: inventario(lista de diccionarios) , clientes (diccionario) y ventas totales (float)\n",
    "almacen = [{\"nombre\" : \"camisa\", \"precio\" : float(20) , \"cantidad\" : int(40)}] , [{\"nombre\" : \"pantalon\" , \"precio\" : float (30) , \"cantidad\" : int(30)}]\n",
    "ventas_almacen = (0)\n",
    "\n",
    "agregar_producto = input (\"Introduce el nombre {nombre} del producto, el precio {precio} y la cantidad {cantidad}\")\n",
    "\n"
   ]
  },
  {
   "cell_type": "code",
   "execution_count": null,
   "metadata": {},
   "outputs": [],
   "source": [
    "inventario = list [{\"producto: []\"}, {\"precio: []\"} , {\"cantidad: []\"}]\n",
    "clientes = dict ({\"nombre:[]\"}, {\"e-mail:[]\"}, {\"compras:[]\"})\n",
    "ventas_totales = float()"
   ]
  },
  {
   "cell_type": "code",
   "execution_count": 23,
   "metadata": {},
   "outputs": [],
   "source": [
    "# Metodo 2: Ver el inventario. Utilizar un bucle for e imprimir detalles: nombre, precio y cantidad de cada producto.\n",
    "\n",
    "def ver_inventario (self):  # Creo un diccionario vacío para el resumen/visualización del inventario\n",
    "        resumen_inventario = {}\n",
    "        # Utiliza un bucle for para recorrer el inventario.\n",
    "        for producto in self.inventario:\n",
    "            # Extrae información del producto: nombre, precio y cantidad\n",
    "            producto_info = nombre , precio, cantidad \n",
    "            # Imprime los detalles (nombre, precio, cantidad) de cada producto\n",
    "            print (f\"nombre: {nombre}, precio: {precio}, cantidad {cantidad}\")\n",
    "    "
   ]
  },
  {
   "cell_type": "code",
   "execution_count": 250,
   "metadata": {},
   "outputs": [
    {
     "name": "stdout",
     "output_type": "stream",
     "text": [
      "{'nombre': 'veronica', 'apellidos': 'verdugo', 'edad': '41'}\n"
     ]
    }
   ],
   "source": [
    "# ejercicios para probar\n",
    "diccionario = {\n",
    "    \"nombre\" : \"veronica\",\n",
    "    \"apellidos\" : \"verdugo\",\n",
    "    \"edad\" : \"41\"\n",
    "}\n",
    "diccionario.keys()\n",
    "\n",
    "print (diccionario)\n",
    "diccionario.items()\n",
    "\n",
    "clientes = {\n",
    "    \"nombre\" : input(\"Introduce tu nombre\"),\n",
    "    \"e_mail\" : input(\"Introduce tu e-mail\"),\n",
    "    \"compras\" : []\n",
    "}\n",
    "\n",
    "ventas_totales = [()]# suma el precio y la cantidad.\"has vendido \"cantidad\" de productos por un importe de \"total\"\n"
   ]
  }
 ],
 "metadata": {
  "kernelspec": {
   "display_name": "Python 3",
   "language": "python",
   "name": "python3"
  },
  "language_info": {
   "codemirror_mode": {
    "name": "ipython",
    "version": 3
   },
   "file_extension": ".py",
   "mimetype": "text/x-python",
   "name": "python",
   "nbconvert_exporter": "python",
   "pygments_lexer": "ipython3",
   "version": "3.12.3"
  }
 },
 "nbformat": 4,
 "nbformat_minor": 2
}
